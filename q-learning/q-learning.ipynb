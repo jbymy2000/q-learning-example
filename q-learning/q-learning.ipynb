{
 "cells": [
  {
   "cell_type": "markdown",
   "id": "880ba6ceb37c88b8",
   "metadata": {},
   "source": [
    "## 一、q-learning提出的背景\n",
    "\n",
    "\n",
    "    q的含义是quality，也就是状态动作对的质量。这一算法在环境model未知的情况下进行策略评估的框架算法\n",
    "    是一种off-policy的策略算法，也就是说他通过别的策略产生的trajectory去迭代当前策略。\n",
    "\n",
    "\n",
    "## 二、q-learning算法的核心\n",
    "    通过从经验episode中学习迭代Q表，使用ε-greedy策略去选择行为。\n",
    "    更新规则基于贝尔曼最优方程\n",
    "$$Q(s, a) \\leftarrow Q(s, a) + \\alpha \\left[ r + \\gamma \\max_{a'} Q(s', a') - Q(s, a) \\right]\n",
    "$$\n",
    "## 算法伪代码\n",
    "\n",
    "\n",
    "![算法代码](img.png \"算法代码\")\n",
    "\n",
    "\n",
    "## 三、下面通过一个例子，q-learning算法走25*25迷宫的例子来测试q-learning算法\n",
    "\n",
    "\n"
   ]
  },
  {
   "cell_type": "code",
   "id": "672ebe860b0da112",
   "metadata": {
    "ExecuteTime": {
     "end_time": "2024-05-21T07:34:50.211194Z",
     "start_time": "2024-05-21T07:34:50.199277Z"
    }
   },
   "source": [
    "import matplotlib.pyplot as plt\n",
    "\n",
    "#使用 matplotlib来绘制迷宫\n",
    "def plot_world(world, stone_list, start_position, final_position, result=None):\n",
    "    plt.figure(1)\n",
    "\n",
    "    plt.ylim([0, len(world)-1])\n",
    "    plt.xlim([0, len(world)-1])\n",
    "    plt.xticks([i for i in range(len(world))], [str(i) for i in range(len(world))])\n",
    "    plt.yticks([i for i in range(len(world))], [str(i) for i in range(len(world))])\n",
    "    plt.grid()\n",
    "    plt.title(\"grid world\")\n",
    "    plt.scatter(start_position[0], start_position[1], s=150, color=\"green\", marker=\"s\")\n",
    "    plt.scatter(final_position[0], final_position[1], s=150, color=\"red\", marker=\"o\")\n",
    "    for eve in stone_list:\n",
    "        plt.scatter(eve[0], eve[1], s=150, color=\"gray\", marker=\"x\")\n",
    "    if result != None:\n",
    "        for i in range(len(result)-1):\n",
    "            plt.plot([result[i][0], result[i+1][0]], [result[i][1], result[i+1][1]], color=\"red\", marker=\"*\")\n",
    "        plt.savefig(\"qlearning-grid-result.png\", dpi=600)\n",
    "        plt.show()\n",
    "    else:\n",
    "        plt.savefig(\"grid.png\", dpi=600)\n",
    "        plt.show()"
   ],
   "outputs": [],
   "execution_count": 110
  },
  {
   "cell_type": "markdown",
   "id": "11e14101d9a2e52b",
   "metadata": {},
   "source": [
    "## 初始化地图、障碍、目标、起点"
   ]
  },
  {
   "cell_type": "code",
   "id": "8cf78dbd45ea7f3",
   "metadata": {
    "ExecuteTime": {
     "end_time": "2024-05-21T07:34:51.322751Z",
     "start_time": "2024-05-21T07:34:50.225971Z"
    }
   },
   "source": [
    "\n",
    "world = [[(i,j) for j in range(15)] for i in range(15)]\n",
    "# 设置11个障碍物\n",
    "stone_list = [(0, 2), (0, 4), (0, 5), (0, 13), (0, 19), (0, 20), (0, 22), (1, 2), (1, 6), (1, 8), (1, 9), (1, 15), (1, 17), (1, 19), (2, 3), (2, 6), (2, 7), (2, 10), (2, 13), (2, 17), (2, 19), (3, 1), (3, 3), (3, 7), (3, 9), (3, 11), (3, 16), (3, 18), (4, 4), (4, 5), (4, 7), (4, 9), (4, 21),  (5, 4), (5, 6), (5, 10), (5, 14), (5, 15), (5, 17), (5, 23), (6, 1), (6, 2), (6, 4), (6, 5),(10,1),(10,3),(10,9),(11,2),(11,4),(11,7),(12,1),(12,7),(12,4),(12,18),(12,19)]\n",
    "# 设置入口与出口\n",
    "start_position = (1, 1)\n",
    "final_position = (9, 9)\n",
    "plot_world(world,stone_list,start_position,final_position)"
   ],
   "outputs": [
    {
     "data": {
      "text/plain": [
       "<Figure size 640x480 with 1 Axes>"
      ],
      "image/png": "[encoded data removed]"
     },
     "metadata": {},
     "output_type": "display_data"
    }
   ],
   "execution_count": 111
  },
  {
   "cell_type": "markdown",
   "id": "7c3764cfda5233de",
   "metadata": {},
   "source": [
    "## 奖励函数"
   ]
  },
  {
   "cell_type": "code",
   "id": "2e4e2e89fe7ad9a",
   "metadata": {
    "ExecuteTime": {
     "end_time": "2024-05-21T07:34:51.331698Z",
     "start_time": "2024-05-21T07:34:51.325396Z"
    }
   },
   "source": [
    "def get_reward(state, final_position, stone_list, current_state):\n",
    "    if state == current_state:\n",
    "        return -3\n",
    "    if state == final_position:\n",
    "        return 10\n",
    "    elif state in stone_list:\n",
    "        return -10\n",
    "    else:\n",
    "        return -1"
   ],
   "outputs": [],
   "execution_count": 112
  },
  {
   "cell_type": "markdown",
   "id": "d58c194b75371055",
   "metadata": {},
   "source": [
    "## 根据当前(s,a)，决定下一时刻的状态"
   ]
  },
  {
   "cell_type": "code",
   "id": "9a47311681b87710",
   "metadata": {
    "ExecuteTime": {
     "end_time": "2024-05-21T07:34:51.341524Z",
     "start_time": "2024-05-21T07:34:51.333489Z"
    }
   },
   "source": [
    "def action_result(action, current_state, max_trick):\n",
    "    if action == \"up\":\n",
    "        if current_state[1] == max_trick:\n",
    "            return current_state\n",
    "        else:\n",
    "            return (current_state[0], current_state[1]+1)\n",
    "    elif action == \"down\":\n",
    "        if current_state[1] == 0:\n",
    "            return current_state\n",
    "        else:\n",
    "            return (current_state[0], current_state[1]-1)\n",
    "    elif action == \"left\":\n",
    "        if current_state[0] == 0:\n",
    "            return current_state\n",
    "        else:\n",
    "            return (current_state[0]-1, current_state[1])\n",
    "    elif action == \"right\":\n",
    "        if current_state[0] == max_trick:\n",
    "            return current_state\n",
    "        else:\n",
    "            return (current_state[0]+1, current_state[1])\n",
    "    else:\n",
    "        raise IOError"
   ],
   "outputs": [],
   "execution_count": 113
  },
  {
   "cell_type": "markdown",
   "id": "3d37d9c0474ad508",
   "metadata": {},
   "source": [
    "## 从q表获取最大q值"
   ]
  },
  {
   "cell_type": "code",
   "id": "4ad58176143ae568",
   "metadata": {
    "ExecuteTime": {
     "end_time": "2024-05-21T07:34:51.352717Z",
     "start_time": "2024-05-21T07:34:51.347959Z"
    }
   },
   "source": [
    "# 获得最大的q值\n",
    "def get_maxq(qtable, state):\n",
    "    temp = []\n",
    "    for i in range(len(qtable)):\n",
    "        temp.append(qtable[i][state[0]][state[1]])\n",
    "    maxone = max(temp)\n",
    "    argmax = np.argmax(temp)\n",
    "    return maxone, argmax"
   ],
   "outputs": [],
   "execution_count": 114
  },
  {
   "metadata": {},
   "cell_type": "markdown",
   "source": "## 参数初始化",
   "id": "37cc1dc758b689af"
  },
  {
   "cell_type": "code",
   "id": "bd3668f530b85f0f",
   "metadata": {
    "ExecuteTime": {
     "end_time": "2024-05-21T07:34:51.363826Z",
     "start_time": "2024-05-21T07:34:51.356359Z"
    }
   },
   "source": [
    "# 动作空间\n",
    "action = [\"up\", \"down\", \"left\", \"right\"]\n",
    "episodes = 600\n",
    "alpha = 0.7\n",
    "gamma = 0.5\n",
    "epsilon = 0.5\n",
    "\n",
    "# q表和策略初始化，初值都是0\n",
    "q_table = [[[0 for j in range(len(world))] for i in range(len(world))] for k in range(4)]\n",
    "policy = [[0 for j in range(len(world))] for i in range(len(world))]\n"
   ],
   "outputs": [],
   "execution_count": 115
  },
  {
   "metadata": {},
   "cell_type": "markdown",
   "source": "## 打印策略内容",
   "id": "fb2608b47a5c27e7"
  },
  {
   "cell_type": "code",
   "id": "ccf21f4316af8ce0",
   "metadata": {
    "ExecuteTime": {
     "end_time": "2024-05-21T07:34:51.373605Z",
     "start_time": "2024-05-21T07:34:51.365821Z"
    }
   },
   "source": [
    "def print_policy(policy_, stone_list, final_position):\n",
    "    with open('qlearning-policy.txt', \"w\", encoding=\"utf-8\") as f:\n",
    "        for x in range(len(policy_)):\n",
    "            for y in range(len(policy_[x])):\n",
    "                if (x, y) in stone_list:\n",
    "                    print(\"({},{}):{}\".format(x, y, \"障碍物\"), end=\"; \", file=f)\n",
    "                    print(\"({},{}):{}\".format(x, y, \"障碍物\"), end=\"; \")\n",
    "                elif (x, y) == final_position:\n",
    "                    print(\"({},{}):{}\".format(x, y, \"终点\"), end=\"; \", file=f)\n",
    "                    print(\"({},{}):{}\".format(x, y, \"终点\"), end=\"; \")\n",
    "                else:\n",
    "                    print(\"({},{}):{}\".format(x, y, action[policy_[x][y]]), end=\"; \", file=f)\n",
    "                    print(\"({},{}):{}\".format(x, y, action[policy_[x][y]]), end=\"; \")\n",
    "            print(\"\", file=f)\n",
    "            print(\"\")\n"
   ],
   "outputs": [],
   "execution_count": 116
  },
  {
   "metadata": {},
   "cell_type": "markdown",
   "source": "## 训练和推理",
   "id": "a6681f285c8b94ee"
  },
  {
   "cell_type": "code",
   "id": "865901501a31f2e5",
   "metadata": {
    "ExecuteTime": {
     "end_time": "2024-05-21T07:34:52.724020Z",
     "start_time": "2024-05-21T07:34:51.375964Z"
    }
   },
   "source": [
    "import numpy as np\n",
    "import random\n",
    "# 训练\n",
    "for episode in range(episodes):\n",
    "    current_state = start_position\n",
    "    save = [current_state]\n",
    "    while True:\n",
    "        # 策略选择动作\n",
    "        if random.randint(1,100)/100 > epsilon:\n",
    "            action_index = policy[current_state[0]][current_state[1]]\n",
    "        else:\n",
    "            action_index = random.randint(0,3)\n",
    "        next_state = action_result(action[action_index], current_state, 11)\n",
    "        reward = get_reward(next_state, final_position, stone_list, current_state)\n",
    "\n",
    "        # 更新q值表\n",
    "        maxone, _ = get_maxq(q_table, next_state)\n",
    "        q_table[action_index][current_state[0]][current_state[1]] += \\\n",
    "            alpha*(reward + gamma*maxone - q_table[action_index][current_state[0]][current_state[1]])\n",
    "        # 更新策略\n",
    "        _, argmax = get_maxq(q_table, current_state)\n",
    "        policy[current_state[0]][current_state[1]] = argmax\n",
    "\n",
    "        # 时间步长改变\n",
    "        current_state = next_state\n",
    "        save.append(current_state)\n",
    "        if reward == 10 or reward == -10:\n",
    "            # print(save)\n",
    "            break\n",
    "\n",
    "# 推理\n",
    "state = start_position\n",
    "res = [state]\n",
    "print(\"begin:\", state, end=\";\")\n",
    "for i in range(20):\n",
    "    a_index = policy[state[0]][state[1]]\n",
    "    next_state = action_result(action[a_index], state, 11)\n",
    "    print(next_state, end=\";\")\n",
    "    res.append(next_state)\n",
    "    if next_state == final_position:\n",
    "        print(\"bingo!\")\n",
    "        print(\"共走了\",i+1,\"步\")\n",
    "        plot_world(world, stone_list, start_position, final_position,res)\n",
    "        print(\"使用q-learning训练并推理产生的结果图见根目录'qlearning-grid-result.png'\")\n",
    "        print(\"使用q-learning训练并推理产生的策略已保存在'qlearning-policy.txt'\")\n",
    "        print(\"q-learning策略：\")\n",
    "        print_policy(policy, stone_list, final_position)\n",
    "        break\n",
    "    state = next_state\n"
   ],
   "outputs": [
    {
     "name": "stdout",
     "output_type": "stream",
     "text": [
      "begin: (1, 1);(2, 1);(2, 2);(3, 2);(4, 2);(5, 2);(5, 3);(6, 3);(7, 3);(7, 4);(7, 5);(8, 5);(9, 5);(9, 6);(9, 7);(9, 8);(9, 9);bingo!\n",
      "共走了 16 步\n"
     ]
    },
    {
     "data": {
      "text/plain": [
       "<Figure size 640x480 with 1 Axes>"
      ],
      "image/png": "[encoded data removed]"
     },
     "metadata": {},
     "output_type": "display_data"
    },
    {
     "name": "stdout",
     "output_type": "stream",
     "text": [
      "使用q-learning训练并推理产生的结果图见根目录'qlearning-grid-result.png'\n",
      "使用q-learning训练并推理产生的策略已保存在'qlearning-policy.txt'\n",
      "q-learning策略：\n",
      "(0,0):right; (0,1):right; (0,2):障碍物; (0,3):up; (0,4):障碍物; (0,5):障碍物; (0,6):up; (0,7):up; (0,8):up; (0,9):up; (0,10):up; (0,11):up; (0,12):up; (0,13):障碍物; (0,14):up; \n",
      "(1,0):right; (1,1):right; (1,2):障碍物; (1,3):up; (1,4):up; (1,5):up; (1,6):障碍物; (1,7):up; (1,8):障碍物; (1,9):障碍物; (1,10):up; (1,11):up; (1,12):up; (1,13):up; (1,14):up; \n",
      "(2,0):right; (2,1):up; (2,2):right; (2,3):障碍物; (2,4):up; (2,5):up; (2,6):障碍物; (2,7):障碍物; (2,8):up; (2,9):up; (2,10):障碍物; (2,11):up; (2,12):up; (2,13):障碍物; (2,14):up; \n",
      "(3,0):right; (3,1):障碍物; (3,2):right; (3,3):障碍物; (3,4):up; (3,5):up; (3,6):up; (3,7):障碍物; (3,8):up; (3,9):障碍物; (3,10):up; (3,11):障碍物; (3,12):up; (3,13):up; (3,14):up; \n",
      "(4,0):right; (4,1):up; (4,2):right; (4,3):right; (4,4):障碍物; (4,5):障碍物; (4,6):up; (4,7):障碍物; (4,8):up; (4,9):障碍物; (4,10):up; (4,11):up; (4,12):up; (4,13):up; (4,14):up; \n",
      "(5,0):right; (5,1):up; (5,2):up; (5,3):right; (5,4):障碍物; (5,5):up; (5,6):障碍物; (5,7):up; (5,8):left; (5,9):down; (5,10):障碍物; (5,11):up; (5,12):up; (5,13):up; (5,14):障碍物; \n",
      "(6,0):right; (6,1):障碍物; (6,2):障碍物; (6,3):right; (6,4):障碍物; (6,5):障碍物; (6,6):up; (6,7):up; (6,8):left; (6,9):left; (6,10):down; (6,11):left; (6,12):up; (6,13):up; (6,14):up; \n",
      "(7,0):up; (7,1):right; (7,2):up; (7,3):up; (7,4):up; (7,5):right; (7,6):left; (7,7):up; (7,8):left; (7,9):left; (7,10):right; (7,11):right; (7,12):up; (7,13):up; (7,14):up; \n",
      "(8,0):up; (8,1):right; (8,2):up; (8,3):up; (8,4):left; (8,5):right; (8,6):right; (8,7):up; (8,8):up; (8,9):right; (8,10):left; (8,11):left; (8,12):up; (8,13):up; (8,14):up; \n",
      "(9,0):right; (9,1):up; (9,2):up; (9,3):up; (9,4):up; (9,5):up; (9,6):up; (9,7):up; (9,8):up; (9,9):终点; (9,10):down; (9,11):up; (9,12):up; (9,13):up; (9,14):up; \n",
      "(10,0):right; (10,1):障碍物; (10,2):left; (10,3):障碍物; (10,4):up; (10,5):right; (10,6):up; (10,7):right; (10,8):left; (10,9):障碍物; (10,10):up; (10,11):up; (10,12):up; (10,13):up; (10,14):up; \n",
      "(11,0):up; (11,1):down; (11,2):障碍物; (11,3):up; (11,4):障碍物; (11,5):left; (11,6):left; (11,7):障碍物; (11,8):up; (11,9):up; (11,10):up; (11,11):up; (11,12):up; (11,13):up; (11,14):up; \n",
      "(12,0):up; (12,1):障碍物; (12,2):up; (12,3):up; (12,4):障碍物; (12,5):up; (12,6):up; (12,7):障碍物; (12,8):up; (12,9):up; (12,10):up; (12,11):up; (12,12):up; (12,13):up; (12,14):up; \n",
      "(13,0):up; (13,1):up; (13,2):up; (13,3):up; (13,4):up; (13,5):up; (13,6):up; (13,7):up; (13,8):up; (13,9):up; (13,10):up; (13,11):up; (13,12):up; (13,13):up; (13,14):up; \n",
      "(14,0):up; (14,1):up; (14,2):up; (14,3):up; (14,4):up; (14,5):up; (14,6):up; (14,7):up; (14,8):up; (14,9):up; (14,10):up; (14,11):up; (14,12):up; (14,13):up; (14,14):up; \n"
     ]
    }
   ],
   "execution_count": 117
  }
 ],
 "metadata": {
  "kernelspec": {
   "display_name": "Python 3 (ipykernel)",
   "language": "python",
   "name": "python3"
  },
  "language_info": {
   "codemirror_mode": {
    "name": "ipython",
    "version": 3
   },
   "file_extension": ".py",
   "mimetype": "text/x-python",
   "name": "python",
   "nbconvert_exporter": "python",
   "pygments_lexer": "ipython3",
   "version": "3.10.14"
  }
 },
 "nbformat": 4,
 "nbformat_minor": 5
}
